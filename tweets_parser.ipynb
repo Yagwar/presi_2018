{
 "cells": [
  {
   "cell_type": "code",
   "execution_count": 173,
   "metadata": {},
   "outputs": [],
   "source": [
    "import json\n",
    "import pandas as pd\n",
    "import matplotlib.pyplot as plt\n",
    "import numpy as np\n",
    "import random\n",
    "%matplotlib inline\n",
    "\n",
    "import seaborn as sns\n",
    "sns.set(color_codes=True)"
   ]
  },
  {
   "cell_type": "markdown",
   "metadata": {},
   "source": [
    "## Extraer usuarios"
   ]
  },
  {
   "cell_type": "code",
   "execution_count": 135,
   "metadata": {},
   "outputs": [],
   "source": [
    "# get users and mentions from the download files:\n",
    "tweets_datas_path = ['dwnld_1.json',\n",
    "                     'dwnld_2.json',\n",
    "                     'dwnld_3.json']                    \n",
    "tw_id=[]\n",
    "tw_user_id=[]\n",
    "tw_user=[]\n",
    "tw_text=[]\n",
    "entities_long=[]\n",
    "mentioned_ids=[]\n",
    "\n",
    "for json_file in tweets_datas_path:\n",
    "    with open(json_file, \"r\") as tweets_file:\n",
    "        for line in tweets_file:\n",
    "            try:\n",
    "                tweet = json.loads(line)\n",
    "                tw_entities=[]\n",
    "                tw_id.append(tweet[\"id_str\"])\n",
    "                tw_user_id.append(tweet[\"user\"][\"id_str\"])\n",
    "                tw_user.append(tweet[\"user\"][\"screen_name\"])\n",
    "                tw_entities.extend(tweet[\"entities\"][\"user_mentions\"])\n",
    "                entities_long.extend(tweet[\"entities\"][\"user_mentions\"])\n",
    "                tw_text_loop=[tweet[\"text\"]]\n",
    "                if tweet[\"truncated\"]:#==\"True\": # Truncated indica si el tweet es corto o largo; si truncado, busca extendido\n",
    "                    tw_text_loop=[tweet[\"extended_tweet\"][\"full_text\"]]\n",
    "                    tw_entities.extend(tweet[\"extended_tweet\"][\"entities\"][\"user_mentions\"])\n",
    "                    entities_long.extend(tweet[\"extended_tweet\"][\"entities\"][\"user_mentions\"])\n",
    "                else:\n",
    "                    if tweet[\"text\"][0:2]==\"RT\":\n",
    "                        if tweet[\"retweeted_status\"][\"truncated\"]:\n",
    "                            tw_text_loop=[tweet[\"retweeted_status\"][\"extended_tweet\"][\"full_text\"]]\n",
    "                            tw_entities.extend(tweet[\"retweeted_status\"][\"extended_tweet\"][\"entities\"][\"user_mentions\"])\n",
    "                            entities_long.extend(tweet[\"retweeted_status\"][\"extended_tweet\"][\"entities\"][\"user_mentions\"])\n",
    "                        else: \n",
    "                            tw_text_loop=[tweet[\"retweeted_status\"][\"text\"]]\n",
    "                            tw_entities.extend(tweet[\"retweeted_status\"][\"entities\"][\"user_mentions\"])\n",
    "                        if tweet[\"retweeted_status\"][\"is_quote_status\"]:\n",
    "                            tw_entities.extend(tweet[\"retweeted_status\"][\"quoted_status\"][\"entities\"][\"user_mentions\"])\n",
    "                            entities_long.extend(tweet[\"retweeted_status\"][\"quoted_status\"][\"entities\"][\"user_mentions\"])\n",
    "                    else:\n",
    "                        tw_text_loop=[tweet[\"text\"]]\n",
    "                mentioned_ids.append(list(set([ent[\"id_str\"] for ent in tw_entities])))\n",
    "                tw_text.append([tweet[\"id_str\"],tw_text_loop])\n",
    "            except:\n",
    "                continue\n",
    "\n",
    "\n",
    "\n",
    "    \n"
   ]
  },
  {
   "cell_type": "code",
   "execution_count": 136,
   "metadata": {},
   "outputs": [
    {
     "name": "stdout",
     "output_type": "stream",
     "text": [
      "229711 229711 229711 229697 1171370 229697\n"
     ]
    }
   ],
   "source": [
    "print(len(tw_id),\n",
    "      len(tw_user_id),\n",
    "      len(tw_user),\n",
    "      len(tw_text),\n",
    "      len(entities_long),\n",
    "      len(mentioned_ids))"
   ]
  },
  {
   "cell_type": "code",
   "execution_count": 184,
   "metadata": {},
   "outputs": [
    {
     "name": "stdout",
     "output_type": "stream",
     "text": [
      "twiteros: 45149\n"
     ]
    }
   ],
   "source": [
    "tweets_ids=pd.DataFrame({\"tw_id\":tw_id,\n",
    "              \"tw_user_id\":tw_user_id,\n",
    "              \"tw_user\":tw_user\n",
    "             })\n",
    "ids_freqs=pd.crosstab(index=tweets_ids.tw_user, columns=\"count\")\n",
    "ids_freqs=ids_freqs.sort_values(by=['count'] , ascending=False)[\"count\"]\n",
    "print(\"twiteros:\",ids_freqs.shape[0])"
   ]
  },
  {
   "cell_type": "code",
   "execution_count": 186,
   "metadata": {},
   "outputs": [
    {
     "data": {
      "text/plain": [
       "<matplotlib.axes._subplots.AxesSubplot at 0x9196e128>"
      ]
     },
     "execution_count": 186,
     "metadata": {},
     "output_type": "execute_result"
    },
    {
     "data": {
      "image/png": "[encoded data removed]",
      "text/plain": [
       "<matplotlib.figure.Figure at 0x9198b7f0>"
      ]
     },
     "metadata": {},
     "output_type": "display_data"
    }
   ],
   "source": [
    "# ids_freqs.sort_values(by=['count'] , ascending=False)[\"count\"]\n",
    "\n",
    "ids_freqs.plot()# figsize=(16, 9))"
   ]
  },
  {
   "cell_type": "code",
   "execution_count": 187,
   "metadata": {},
   "outputs": [
    {
     "data": {
      "text/plain": [
       "<matplotlib.axes._subplots.AxesSubplot at 0x8f4a0940>"
      ]
     },
     "execution_count": 187,
     "metadata": {},
     "output_type": "execute_result"
    },
    {
     "data": {
      "image/png": "[encoded data removed]",
      "text/plain": [
       "<matplotlib.figure.Figure at 0x8f4e27f0>"
      ]
     },
     "metadata": {},
     "output_type": "display_data"
    }
   ],
   "source": [
    "sns.distplot(ids_freqs)"
   ]
  },
  {
   "cell_type": "code",
   "execution_count": 179,
   "metadata": {},
   "outputs": [
    {
     "data": {
      "text/html": [
       "<div>\n",
       "<style scoped>\n",
       "    .dataframe tbody tr th:only-of-type {\n",
       "        vertical-align: middle;\n",
       "    }\n",
       "\n",
       "    .dataframe tbody tr th {\n",
       "        vertical-align: top;\n",
       "    }\n",
       "\n",
       "    .dataframe thead th {\n",
       "        text-align: right;\n",
       "    }\n",
       "</style>\n",
       "<table border=\"1\" class=\"dataframe\">\n",
       "  <thead>\n",
       "    <tr style=\"text-align: right;\">\n",
       "      <th>col_0</th>\n",
       "      <th>count</th>\n",
       "    </tr>\n",
       "  </thead>\n",
       "  <tbody>\n",
       "    <tr>\n",
       "      <th>count</th>\n",
       "      <td>45149.000</td>\n",
       "    </tr>\n",
       "    <tr>\n",
       "      <th>mean</th>\n",
       "      <td>5.088</td>\n",
       "    </tr>\n",
       "    <tr>\n",
       "      <th>std</th>\n",
       "      <td>12.992</td>\n",
       "    </tr>\n",
       "    <tr>\n",
       "      <th>min</th>\n",
       "      <td>1.000</td>\n",
       "    </tr>\n",
       "    <tr>\n",
       "      <th>25%</th>\n",
       "      <td>1.000</td>\n",
       "    </tr>\n",
       "    <tr>\n",
       "      <th>50%</th>\n",
       "      <td>2.000</td>\n",
       "    </tr>\n",
       "    <tr>\n",
       "      <th>75%</th>\n",
       "      <td>4.000</td>\n",
       "    </tr>\n",
       "    <tr>\n",
       "      <th>max</th>\n",
       "      <td>455.000</td>\n",
       "    </tr>\n",
       "  </tbody>\n",
       "</table>\n",
       "</div>"
      ],
      "text/plain": [
       "col_0      count\n",
       "count  45149.000\n",
       "mean       5.088\n",
       "std       12.992\n",
       "min        1.000\n",
       "25%        1.000\n",
       "50%        2.000\n",
       "75%        4.000\n",
       "max      455.000"
      ]
     },
     "execution_count": 179,
     "metadata": {},
     "output_type": "execute_result"
    }
   ],
   "source": [
    "round(ids_freqs.describe(),3)"
   ]
  },
  {
   "cell_type": "code",
   "execution_count": 188,
   "metadata": {},
   "outputs": [
    {
     "data": {
      "text/plain": [
       "<matplotlib.axes._subplots.AxesSubplot at 0x8f4e3128>"
      ]
     },
     "execution_count": 188,
     "metadata": {},
     "output_type": "execute_result"
    },
    {
     "data": {
      "image/png": "[encoded data removed]",
      "text/plain": [
       "<matplotlib.figure.Figure at 0x918d8550>"
      ]
     },
     "metadata": {},
     "output_type": "display_data"
    }
   ],
   "source": [
    "ids_freqs[:150].plot()# figsize=(16, 9))"
   ]
  },
  {
   "cell_type": "code",
   "execution_count": 165,
   "metadata": {},
   "outputs": [
    {
     "data": {
      "text/plain": [
       "tw_user\n",
       "PORMIPATRIAYA      455\n",
       "Yaniracolombia     349\n",
       "Cmarcafederal      333\n",
       "marco_caldon       315\n",
       "NANACHAGU          312\n",
       "valderramaangel    307\n",
       "abel3131           271\n",
       "DieGatto1          259\n",
       "GladysBecerra1     254\n",
       "biolucho2005       241\n",
       "CarrillonavasG     234\n",
       "nenoriega5         232\n",
       "megavas            226\n",
       "lugicas            222\n",
       "MACMontt           221\n",
       "LuisCarlosFV2      219\n",
       "TWITERM99417410    218\n",
       "pierrealee         217\n",
       "waltermunevar      206\n",
       "ramiropinzon56     205\n",
       "DavidMed_          205\n",
       "SGTBerkoff1981     205\n",
       "lguzmangomez       202\n",
       "Kinopodia          202\n",
       "jjolivella         195\n",
       "MiguelS69397877    182\n",
       "carlucas956666     181\n",
       "jose_amed          180\n",
       "jklosan05          179\n",
       "VancliffDesign     179\n",
       "krlosgiraldo1      179\n",
       "JaviJimenezl       177\n",
       "noelquisa          177\n",
       "josecastano0904    177\n",
       "Gustavo68831299    176\n",
       "VictoriaRubian5    175\n",
       "Amparoc66          173\n",
       "PabloSolanoMat1    170\n",
       "AbCarrymar         170\n",
       "manueljoseluque    170\n",
       "billybrown6161     170\n",
       "pajaritopi01       170\n",
       "jpalacioposada     169\n",
       "HernanChelo        168\n",
       "GusDuque1          168\n",
       "josemi422          168\n",
       "juansex11151175    168\n",
       "Barreja            167\n",
       "PAULADOMINGUEZG    166\n",
       "Santifer57         166\n",
       "raulzul            165\n",
       "guilleparra2000    165\n",
       "CarlosB06502719    164\n",
       "victordanielcas    163\n",
       "DeQuevedoFco       163\n",
       "muralesypisos3d    161\n",
       "Juancar30071948    161\n",
       "PatriciaMontoy6    158\n",
       "luisvarela888      156\n",
       "SergioM60798259    155\n",
       "Name: count, dtype: int64"
      ]
     },
     "execution_count": 165,
     "metadata": {},
     "output_type": "execute_result"
    }
   ],
   "source": [
    "ids_freqs.sort_values(by=['count'] , ascending=False)[\"count\"][:60]"
   ]
  },
  {
   "cell_type": "code",
   "execution_count": 139,
   "metadata": {},
   "outputs": [
    {
     "data": {
      "text/plain": [
       "16209"
      ]
     },
     "execution_count": 139,
     "metadata": {},
     "output_type": "execute_result"
    }
   ],
   "source": [
    "uniq_ids=list(set([entit[\"id_str\"]for entit in entities_long]))\n",
    "len(uniq_ids)"
   ]
  },
  {
   "cell_type": "code",
   "execution_count": 140,
   "metadata": {},
   "outputs": [],
   "source": [
    "ments_df=pd.DataFrame([[entit[\"id_str\"],\n",
    "                        entit[\"screen_name\"],\n",
    "                        entit[\"name\"]\n",
    "                       ]for entit in entities_long],\n",
    "                     columns=[\"id_str\",\"screen_name\",\"name\"])"
   ]
  },
  {
   "cell_type": "code",
   "execution_count": 206,
   "metadata": {},
   "outputs": [
    {
     "name": "stdout",
     "output_type": "stream",
     "text": [
      "Cuentas mencionadas 16220\n"
     ]
    }
   ],
   "source": [
    "ments_freq=pd.crosstab(index=ments_df.screen_name, columns=\"count\")\n",
    "ments_freq=ments_freq.sort_values(by=['count'] , ascending=False)\n",
    "print(\"Cuentas mencionadas\",ments_freq.shape[0])"
   ]
  },
  {
   "cell_type": "code",
   "execution_count": 212,
   "metadata": {},
   "outputs": [
    {
     "data": {
      "text/plain": [
       "<matplotlib.axes._subplots.AxesSubplot at 0x90508f60>"
      ]
     },
     "execution_count": 212,
     "metadata": {},
     "output_type": "execute_result"
    },
    {
     "data": {
      "image/png": "[encoded data removed]",
      "text/plain": [
       "<matplotlib.figure.Figure at 0x90524710>"
      ]
     },
     "metadata": {},
     "output_type": "display_data"
    }
   ],
   "source": [
    "ments_freq[:20].plot(kind='bar', figsize=(9,6))"
   ]
  },
  {
   "cell_type": "code",
   "execution_count": 216,
   "metadata": {},
   "outputs": [
    {
     "data": {
      "text/plain": [
       "<matplotlib.axes._subplots.AxesSubplot at 0x905ec1d0>"
      ]
     },
     "execution_count": 216,
     "metadata": {},
     "output_type": "execute_result"
    },
    {
     "data": {
      "image/png": "[encoded data removed]",
      "text/plain": [
       "<matplotlib.figure.Figure at 0x9060a128>"
      ]
     },
     "metadata": {},
     "output_type": "display_data"
    }
   ],
   "source": [
    "ments_freq[:50].plot()# figsize=(16, 9))"
   ]
  },
  {
   "cell_type": "code",
   "execution_count": 213,
   "metadata": {},
   "outputs": [
    {
     "data": {
      "text/html": [
       "<div>\n",
       "<style scoped>\n",
       "    .dataframe tbody tr th:only-of-type {\n",
       "        vertical-align: middle;\n",
       "    }\n",
       "\n",
       "    .dataframe tbody tr th {\n",
       "        vertical-align: top;\n",
       "    }\n",
       "\n",
       "    .dataframe thead th {\n",
       "        text-align: right;\n",
       "    }\n",
       "</style>\n",
       "<table border=\"1\" class=\"dataframe\">\n",
       "  <thead>\n",
       "    <tr style=\"text-align: right;\">\n",
       "      <th>col_0</th>\n",
       "      <th>count</th>\n",
       "    </tr>\n",
       "    <tr>\n",
       "      <th>screen_name</th>\n",
       "      <th></th>\n",
       "    </tr>\n",
       "  </thead>\n",
       "  <tbody>\n",
       "    <tr>\n",
       "      <th>IvanDuque</th>\n",
       "      <td>174306</td>\n",
       "    </tr>\n",
       "    <tr>\n",
       "      <th>petrogustavo</th>\n",
       "      <td>163745</td>\n",
       "    </tr>\n",
       "    <tr>\n",
       "      <th>AlvaroUribeVel</th>\n",
       "      <td>22861</td>\n",
       "    </tr>\n",
       "    <tr>\n",
       "      <th>sergio_fajardo</th>\n",
       "      <td>20450</td>\n",
       "    </tr>\n",
       "    <tr>\n",
       "      <th>DeLaCalleHum</th>\n",
       "      <td>18823</td>\n",
       "    </tr>\n",
       "    <tr>\n",
       "      <th>mluciaramirez</th>\n",
       "      <td>16636</td>\n",
       "    </tr>\n",
       "    <tr>\n",
       "      <th>OIZuluaga</th>\n",
       "      <td>16051</td>\n",
       "    </tr>\n",
       "    <tr>\n",
       "      <th>matadoreltiempo</th>\n",
       "      <td>15030</td>\n",
       "    </tr>\n",
       "    <tr>\n",
       "      <th>angelamrobledo</th>\n",
       "      <td>13255</td>\n",
       "    </tr>\n",
       "    <tr>\n",
       "      <th>adolfofoel</th>\n",
       "      <td>10756</td>\n",
       "    </tr>\n",
       "    <tr>\n",
       "      <th>IvanCepedaCast</th>\n",
       "      <td>9887</td>\n",
       "    </tr>\n",
       "    <tr>\n",
       "      <th>GustavoBolivar</th>\n",
       "      <td>9863</td>\n",
       "    </tr>\n",
       "    <tr>\n",
       "      <th>CeDemocratico</th>\n",
       "      <td>9601</td>\n",
       "    </tr>\n",
       "    <tr>\n",
       "      <th>German_Vargas</th>\n",
       "      <td>8502</td>\n",
       "    </tr>\n",
       "    <tr>\n",
       "      <th>AlirioUribeMuoz</th>\n",
       "      <td>8341</td>\n",
       "    </tr>\n",
       "    <tr>\n",
       "      <th>HOLLMANMORRIS</th>\n",
       "      <td>7600</td>\n",
       "    </tr>\n",
       "    <tr>\n",
       "      <th>PonchoZuleta</th>\n",
       "      <td>7521</td>\n",
       "    </tr>\n",
       "    <tr>\n",
       "      <th>ELTIEMPO</th>\n",
       "      <td>6071</td>\n",
       "    </tr>\n",
       "    <tr>\n",
       "      <th>JuanManSantos</th>\n",
       "      <td>5842</td>\n",
       "    </tr>\n",
       "    <tr>\n",
       "      <th>FiscaliaCol</th>\n",
       "      <td>5731</td>\n",
       "    </tr>\n",
       "  </tbody>\n",
       "</table>\n",
       "</div>"
      ],
      "text/plain": [
       "col_0             count\n",
       "screen_name            \n",
       "IvanDuque        174306\n",
       "petrogustavo     163745\n",
       "AlvaroUribeVel    22861\n",
       "sergio_fajardo    20450\n",
       "DeLaCalleHum      18823\n",
       "mluciaramirez     16636\n",
       "OIZuluaga         16051\n",
       "matadoreltiempo   15030\n",
       "angelamrobledo    13255\n",
       "adolfofoel        10756\n",
       "IvanCepedaCast     9887\n",
       "GustavoBolivar     9863\n",
       "CeDemocratico      9601\n",
       "German_Vargas      8502\n",
       "AlirioUribeMuoz    8341\n",
       "HOLLMANMORRIS      7600\n",
       "PonchoZuleta       7521\n",
       "ELTIEMPO           6071\n",
       "JuanManSantos      5842\n",
       "FiscaliaCol        5731"
      ]
     },
     "execution_count": 213,
     "metadata": {},
     "output_type": "execute_result"
    }
   ],
   "source": [
    "ments_freq[:20]#60"
   ]
  },
  {
   "cell_type": "code",
   "execution_count": 214,
   "metadata": {},
   "outputs": [
    {
     "data": {
      "text/html": [
       "<div>\n",
       "<style scoped>\n",
       "    .dataframe tbody tr th:only-of-type {\n",
       "        vertical-align: middle;\n",
       "    }\n",
       "\n",
       "    .dataframe tbody tr th {\n",
       "        vertical-align: top;\n",
       "    }\n",
       "\n",
       "    .dataframe thead th {\n",
       "        text-align: right;\n",
       "    }\n",
       "</style>\n",
       "<table border=\"1\" class=\"dataframe\">\n",
       "  <thead>\n",
       "    <tr style=\"text-align: right;\">\n",
       "      <th>col_0</th>\n",
       "      <th>count</th>\n",
       "    </tr>\n",
       "  </thead>\n",
       "  <tbody>\n",
       "    <tr>\n",
       "      <th>count</th>\n",
       "      <td>16220.000</td>\n",
       "    </tr>\n",
       "    <tr>\n",
       "      <th>mean</th>\n",
       "      <td>72.218</td>\n",
       "    </tr>\n",
       "    <tr>\n",
       "      <th>std</th>\n",
       "      <td>1937.408</td>\n",
       "    </tr>\n",
       "    <tr>\n",
       "      <th>min</th>\n",
       "      <td>1.000</td>\n",
       "    </tr>\n",
       "    <tr>\n",
       "      <th>25%</th>\n",
       "      <td>2.000</td>\n",
       "    </tr>\n",
       "    <tr>\n",
       "      <th>50%</th>\n",
       "      <td>3.000</td>\n",
       "    </tr>\n",
       "    <tr>\n",
       "      <th>75%</th>\n",
       "      <td>11.000</td>\n",
       "    </tr>\n",
       "    <tr>\n",
       "      <th>max</th>\n",
       "      <td>174306.000</td>\n",
       "    </tr>\n",
       "  </tbody>\n",
       "</table>\n",
       "</div>"
      ],
      "text/plain": [
       "col_0       count\n",
       "count   16220.000\n",
       "mean       72.218\n",
       "std      1937.408\n",
       "min         1.000\n",
       "25%         2.000\n",
       "50%         3.000\n",
       "75%        11.000\n",
       "max    174306.000"
      ]
     },
     "execution_count": 214,
     "metadata": {},
     "output_type": "execute_result"
    }
   ],
   "source": [
    "round(ments_freq.describe(),3)"
   ]
  },
  {
   "cell_type": "code",
   "execution_count": null,
   "metadata": {},
   "outputs": [],
   "source": []
  }
 ],
 "metadata": {
  "kernelspec": {
   "display_name": "Python 3",
   "language": "python",
   "name": "python3"
  },
  "language_info": {
   "codemirror_mode": {
    "name": "ipython",
    "version": 3
   },
   "file_extension": ".py",
   "mimetype": "text/x-python",
   "name": "python",
   "nbconvert_exporter": "python",
   "pygments_lexer": "ipython3",
   "version": "3.6.4"
  }
 },
 "nbformat": 4,
 "nbformat_minor": 2
}
