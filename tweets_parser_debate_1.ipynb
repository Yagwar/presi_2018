{
 "cells": [
  {
   "cell_type": "code",
   "execution_count": 1,
   "metadata": {},
   "outputs": [],
   "source": [
    "import json\n",
    "import pandas as pd\n",
    "import matplotlib.pyplot as plt\n",
    "import numpy as np\n",
    "import random\n",
    "%matplotlib inline\n",
    "\n",
    "import seaborn as sns\n",
    "sns.set(color_codes=True)"
   ]
  },
  {
   "cell_type": "markdown",
   "metadata": {},
   "source": [
    "## Extraer usuarios"
   ]
  },
  {
   "cell_type": "code",
   "execution_count": 2,
   "metadata": {},
   "outputs": [],
   "source": [
    "# get users and mentions from the download files:\n",
    "tweets_datas_path = ['dwnld_debate.json']#,\n",
    "#                      'dwnld_1.json',\n",
    "#                      'dwnld_2.json',\n",
    "#                      'dwnld_3.json']                    \n",
    "tw_id=[]\n",
    "tw_user_id=[]\n",
    "tw_user=[]\n",
    "tw_text=[]\n",
    "entities_long=[]\n",
    "mentioned_ids=[]\n",
    "\n",
    "for json_file in tweets_datas_path:\n",
    "    with open(json_file, \"r\") as tweets_file:\n",
    "        for line in tweets_file:\n",
    "            try:\n",
    "                tweet = json.loads(line)\n",
    "                tw_entities=[]\n",
    "                tw_id.append(tweet[\"id_str\"])\n",
    "                tw_user_id.append(tweet[\"user\"][\"id_str\"])\n",
    "                tw_user.append(tweet[\"user\"][\"screen_name\"])\n",
    "                tw_entities.extend(tweet[\"entities\"][\"user_mentions\"])\n",
    "                entities_long.extend(tweet[\"entities\"][\"user_mentions\"])\n",
    "                tw_text_loop=[tweet[\"text\"]]\n",
    "                if tweet[\"truncated\"]:#==\"True\": # Truncated indica si el tweet es corto o largo; si truncado, busca extendido\n",
    "                    tw_text_loop=[tweet[\"extended_tweet\"][\"full_text\"]]\n",
    "                    tw_entities.extend(tweet[\"extended_tweet\"][\"entities\"][\"user_mentions\"])\n",
    "                    entities_long.extend(tweet[\"extended_tweet\"][\"entities\"][\"user_mentions\"])\n",
    "                else:\n",
    "                    if tweet[\"text\"][0:2]==\"RT\":\n",
    "                        if tweet[\"retweeted_status\"][\"truncated\"]:\n",
    "                            tw_text_loop=[tweet[\"retweeted_status\"][\"extended_tweet\"][\"full_text\"]]\n",
    "                            tw_entities.extend(tweet[\"retweeted_status\"][\"extended_tweet\"][\"entities\"][\"user_mentions\"])\n",
    "                            entities_long.extend(tweet[\"retweeted_status\"][\"extended_tweet\"][\"entities\"][\"user_mentions\"])\n",
    "                        else: \n",
    "                            tw_text_loop=[tweet[\"retweeted_status\"][\"text\"]]\n",
    "                            tw_entities.extend(tweet[\"retweeted_status\"][\"entities\"][\"user_mentions\"])\n",
    "                        if tweet[\"retweeted_status\"][\"is_quote_status\"]:\n",
    "                            tw_entities.extend(tweet[\"retweeted_status\"][\"quoted_status\"][\"entities\"][\"user_mentions\"])\n",
    "                            entities_long.extend(tweet[\"retweeted_status\"][\"quoted_status\"][\"entities\"][\"user_mentions\"])\n",
    "                    else:\n",
    "                        tw_text_loop=[tweet[\"text\"]]\n",
    "                mentioned_ids.append(list(set([ent[\"id_str\"] for ent in tw_entities])))\n",
    "                tw_text.append([tweet[\"id_str\"],tw_text_loop])\n",
    "            except:\n",
    "                continue\n",
    "\n",
    "\n",
    "\n",
    "    \n"
   ]
  },
  {
   "cell_type": "code",
   "execution_count": 3,
   "metadata": {},
   "outputs": [
    {
     "name": "stdout",
     "output_type": "stream",
     "text": [
      "42884 42884 42884 42880 171726 42880\n"
     ]
    }
   ],
   "source": [
    "print(len(tw_id),\n",
    "      len(tw_user_id),\n",
    "      len(tw_user),\n",
    "      len(tw_text),\n",
    "      len(entities_long),\n",
    "      len(mentioned_ids))"
   ]
  },
  {
   "cell_type": "code",
   "execution_count": 4,
   "metadata": {},
   "outputs": [
    {
     "name": "stdout",
     "output_type": "stream",
     "text": [
      "twiteros: 16860\n"
     ]
    }
   ],
   "source": [
    "tweets_ids=pd.DataFrame({\"tw_id\":tw_id,\n",
    "              \"tw_user_id\":tw_user_id,\n",
    "              \"tw_user\":tw_user\n",
    "             })\n",
    "ids_freqs=pd.crosstab(index=tweets_ids.tw_user, columns=\"count\")\n",
    "ids_freqs=ids_freqs.sort_values(by=['count'] , ascending=False)[\"count\"]\n",
    "print(\"twiteros:\",ids_freqs.shape[0])"
   ]
  },
  {
   "cell_type": "code",
   "execution_count": 5,
   "metadata": {},
   "outputs": [
    {
     "data": {
      "text/plain": [
       "<matplotlib.axes._subplots.AxesSubplot at 0x2b0e5cc46a0>"
      ]
     },
     "execution_count": 5,
     "metadata": {},
     "output_type": "execute_result"
    },
    {
     "data": {
      "image/png": "[encoded data removed]",
      "text/plain": [
       "<Figure size 432x288 with 1 Axes>"
      ]
     },
     "metadata": {},
     "output_type": "display_data"
    }
   ],
   "source": [
    "# ids_freqs.sort_values(by=['count'] , ascending=False)[\"count\"]\n",
    "\n",
    "ids_freqs.plot()# figsize=(16, 9))"
   ]
  },
  {
   "cell_type": "code",
   "execution_count": 6,
   "metadata": {},
   "outputs": [
    {
     "name": "stderr",
     "output_type": "stream",
     "text": [
      "C:\\Users\\Administrador\\AppData\\Local\\conda\\conda\\envs\\twdw\\lib\\site-packages\\matplotlib\\axes\\_axes.py:6462: UserWarning: The 'normed' kwarg is deprecated, and has been replaced by the 'density' kwarg.\n",
      "  warnings.warn(\"The 'normed' kwarg is deprecated, and has been \"\n"
     ]
    },
    {
     "data": {
      "text/plain": [
       "<matplotlib.axes._subplots.AxesSubplot at 0x2b0f2ee07f0>"
      ]
     },
     "execution_count": 6,
     "metadata": {},
     "output_type": "execute_result"
    },
    {
     "data": {
      "image/png": "[encoded data removed]",
      "text/plain": [
       "<Figure size 432x288 with 1 Axes>"
      ]
     },
     "metadata": {},
     "output_type": "display_data"
    }
   ],
   "source": [
    "sns.distplot(ids_freqs)"
   ]
  },
  {
   "cell_type": "code",
   "execution_count": 7,
   "metadata": {},
   "outputs": [
    {
     "data": {
      "text/plain": [
       "count    16860.000\n",
       "mean         2.544\n",
       "std          4.481\n",
       "min          1.000\n",
       "25%          1.000\n",
       "50%          1.000\n",
       "75%          3.000\n",
       "max        261.000\n",
       "Name: count, dtype: float64"
      ]
     },
     "execution_count": 7,
     "metadata": {},
     "output_type": "execute_result"
    }
   ],
   "source": [
    "round(ids_freqs.describe(),3)"
   ]
  },
  {
   "cell_type": "code",
   "execution_count": 8,
   "metadata": {},
   "outputs": [
    {
     "data": {
      "text/plain": [
       "<matplotlib.axes._subplots.AxesSubplot at 0x2b0f326f9b0>"
      ]
     },
     "execution_count": 8,
     "metadata": {},
     "output_type": "execute_result"
    },
    {
     "data": {
      "image/png": "[encoded data removed]",
      "text/plain": [
       "<Figure size 432x288 with 1 Axes>"
      ]
     },
     "metadata": {},
     "output_type": "display_data"
    }
   ],
   "source": [
    "ids_freqs[:150].plot()# figsize=(16, 9))"
   ]
  },
  {
   "cell_type": "code",
   "execution_count": 15,
   "metadata": {},
   "outputs": [
    {
     "data": {
      "text/plain": [
       "tw_user\n",
       "VotaPorGerman      261\n",
       "AnyiciiTa_V        108\n",
       "Silvana_R10        101\n",
       "lennyelianam        88\n",
       "AbCarrymar          88\n",
       "Jimmy44989247       75\n",
       "Mercedes_Avila2     73\n",
       "MarianaLenis        73\n",
       "lauv0014            70\n",
       "carlos_karlosa      70\n",
       "_PaulaRonderos      69\n",
       "FROILANZ            68\n",
       "EdgarJoseGaray      68\n",
       "ivan_epm            67\n",
       "spmunoz05           65\n",
       "alfredoa271         63\n",
       "ZONAALEX9864        58\n",
       "laurapimienta4      57\n",
       "roger5co            54\n",
       "barreraastrid       54\n",
       "lguzmangomez        53\n",
       "CPLATAM             49\n",
       "AlexandeRojasA      49\n",
       "dorainesmp          48\n",
       "luz_hania           48\n",
       "TWITERM99417410     48\n",
       "AmparoOrtegab       45\n",
       "ValCe12             42\n",
       "AlfredoNobel1       42\n",
       "elmogollorevele     41\n",
       "daniel56798181      38\n",
       "Leonard89337902     37\n",
       "macdonal5           37\n",
       "NANACHAGU           36\n",
       "nenoriega5          35\n",
       "AntioquiaJuan       35\n",
       "jaramillo_diana     35\n",
       "JuanPAcero          34\n",
       "lasillaenvivo       32\n",
       "LORYROD             32\n",
       "krlosgiraldo1       32\n",
       "Bizarnik            31\n",
       "chelyz29            31\n",
       "JOHNBOLIVARACOS     30\n",
       "PERRYMA55665736     30\n",
       "Macqroll            30\n",
       "paulo290909         30\n",
       "EstefanyListing     30\n",
       "adriroblesmed       30\n",
       "RevistaSemana       30\n",
       "the_insider366      30\n",
       "tikrios             30\n",
       "ArturoSin5          30\n",
       "rodrigoposso        29\n",
       "Monajaneth          29\n",
       "jmpaza217819        28\n",
       "lasillapaisa        28\n",
       "AnddreaSoy          28\n",
       "ktina_mejia         28\n",
       "SenorCaicedo        28\n",
       "Name: count, dtype: int64"
      ]
     },
     "execution_count": 15,
     "metadata": {},
     "output_type": "execute_result"
    }
   ],
   "source": [
    "ids_freqs.sort_values(ascending=False)[:60]\n",
    "#ids_freqs.sort_values(by=['count'], ascending=False)[\"count\"][:60]"
   ]
  },
  {
   "cell_type": "code",
   "execution_count": 16,
   "metadata": {},
   "outputs": [
    {
     "data": {
      "text/plain": [
       "5106"
      ]
     },
     "execution_count": 16,
     "metadata": {},
     "output_type": "execute_result"
    }
   ],
   "source": [
    "uniq_ids=list(set([entit[\"id_str\"]for entit in entities_long]))\n",
    "len(uniq_ids)"
   ]
  },
  {
   "cell_type": "code",
   "execution_count": 17,
   "metadata": {},
   "outputs": [],
   "source": [
    "ments_df=pd.DataFrame([[entit[\"id_str\"],\n",
    "                        entit[\"screen_name\"],\n",
    "                        entit[\"name\"]\n",
    "                       ]for entit in entities_long],\n",
    "                     columns=[\"id_str\",\"screen_name\",\"name\"])"
   ]
  },
  {
   "cell_type": "code",
   "execution_count": 18,
   "metadata": {},
   "outputs": [
    {
     "name": "stdout",
     "output_type": "stream",
     "text": [
      "Cuentas mencionadas 5105\n"
     ]
    }
   ],
   "source": [
    "ments_freq=pd.crosstab(index=ments_df.screen_name, columns=\"count\")\n",
    "ments_freq=ments_freq.sort_values(by=['count'] , ascending=False)\n",
    "print(\"Cuentas mencionadas\",ments_freq.shape[0])"
   ]
  },
  {
   "cell_type": "code",
   "execution_count": 19,
   "metadata": {},
   "outputs": [
    {
     "data": {
      "text/plain": [
       "<matplotlib.axes._subplots.AxesSubplot at 0x2b0f34abbe0>"
      ]
     },
     "execution_count": 19,
     "metadata": {},
     "output_type": "execute_result"
    },
    {
     "data": {
      "image/png": "[encoded data removed]",
      "text/plain": [
       "<Figure size 648x432 with 1 Axes>"
      ]
     },
     "metadata": {},
     "output_type": "display_data"
    }
   ],
   "source": [
    "ments_freq[:20].plot(kind='bar', figsize=(9,6))"
   ]
  },
  {
   "cell_type": "code",
   "execution_count": 20,
   "metadata": {},
   "outputs": [
    {
     "data": {
      "text/plain": [
       "<matplotlib.axes._subplots.AxesSubplot at 0x2b0f3298710>"
      ]
     },
     "execution_count": 20,
     "metadata": {},
     "output_type": "execute_result"
    },
    {
     "data": {
      "image/png": "[encoded data removed]",
      "text/plain": [
       "<Figure size 432x288 with 1 Axes>"
      ]
     },
     "metadata": {},
     "output_type": "display_data"
    }
   ],
   "source": [
    "ments_freq[:50].plot()# figsize=(16, 9))"
   ]
  },
  {
   "cell_type": "code",
   "execution_count": 22,
   "metadata": {},
   "outputs": [
    {
     "data": {
      "text/html": [
       "<div>\n",
       "<style scoped>\n",
       "    .dataframe tbody tr th:only-of-type {\n",
       "        vertical-align: middle;\n",
       "    }\n",
       "\n",
       "    .dataframe tbody tr th {\n",
       "        vertical-align: top;\n",
       "    }\n",
       "\n",
       "    .dataframe thead th {\n",
       "        text-align: right;\n",
       "    }\n",
       "</style>\n",
       "<table border=\"1\" class=\"dataframe\">\n",
       "  <thead>\n",
       "    <tr style=\"text-align: right;\">\n",
       "      <th>col_0</th>\n",
       "      <th>count</th>\n",
       "    </tr>\n",
       "    <tr>\n",
       "      <th>screen_name</th>\n",
       "      <th></th>\n",
       "    </tr>\n",
       "  </thead>\n",
       "  <tbody>\n",
       "    <tr>\n",
       "      <th>IvanDuque</th>\n",
       "      <td>30004</td>\n",
       "    </tr>\n",
       "    <tr>\n",
       "      <th>petrogustavo</th>\n",
       "      <td>22573</td>\n",
       "    </tr>\n",
       "    <tr>\n",
       "      <th>sergio_fajardo</th>\n",
       "      <td>18513</td>\n",
       "    </tr>\n",
       "    <tr>\n",
       "      <th>German_Vargas</th>\n",
       "      <td>15887</td>\n",
       "    </tr>\n",
       "    <tr>\n",
       "      <th>Teleantioquia</th>\n",
       "      <td>10524</td>\n",
       "    </tr>\n",
       "    <tr>\n",
       "      <th>DeLaCalleHum</th>\n",
       "      <td>7308</td>\n",
       "    </tr>\n",
       "    <tr>\n",
       "      <th>RevistaSemana</th>\n",
       "      <td>5530</td>\n",
       "    </tr>\n",
       "    <tr>\n",
       "      <th>RPardoGP</th>\n",
       "      <td>4823</td>\n",
       "    </tr>\n",
       "    <tr>\n",
       "      <th>CeDemocratico</th>\n",
       "      <td>2281</td>\n",
       "    </tr>\n",
       "    <tr>\n",
       "      <th>MejorVargasLle</th>\n",
       "      <td>1971</td>\n",
       "    </tr>\n",
       "    <tr>\n",
       "      <th>AlvaroUribeVel</th>\n",
       "      <td>1892</td>\n",
       "    </tr>\n",
       "    <tr>\n",
       "      <th>ClaudiaLopez</th>\n",
       "      <td>1742</td>\n",
       "    </tr>\n",
       "    <tr>\n",
       "      <th>lasillaenvivo</th>\n",
       "      <td>1221</td>\n",
       "    </tr>\n",
       "    <tr>\n",
       "      <th>VLADDO</th>\n",
       "      <td>975</td>\n",
       "    </tr>\n",
       "    <tr>\n",
       "      <th>mluciaramirez</th>\n",
       "      <td>960</td>\n",
       "    </tr>\n",
       "    <tr>\n",
       "      <th>BluRadioCo</th>\n",
       "      <td>872</td>\n",
       "    </tr>\n",
       "    <tr>\n",
       "      <th>PCambioRadical</th>\n",
       "      <td>686</td>\n",
       "    </tr>\n",
       "    <tr>\n",
       "      <th>AmarantaHank</th>\n",
       "      <td>654</td>\n",
       "    </tr>\n",
       "    <tr>\n",
       "      <th>PinzonBueno</th>\n",
       "      <td>629</td>\n",
       "    </tr>\n",
       "    <tr>\n",
       "      <th>piedadcordoba</th>\n",
       "      <td>598</td>\n",
       "    </tr>\n",
       "  </tbody>\n",
       "</table>\n",
       "</div>"
      ],
      "text/plain": [
       "col_0           count\n",
       "screen_name          \n",
       "IvanDuque       30004\n",
       "petrogustavo    22573\n",
       "sergio_fajardo  18513\n",
       "German_Vargas   15887\n",
       "Teleantioquia   10524\n",
       "DeLaCalleHum     7308\n",
       "RevistaSemana    5530\n",
       "RPardoGP         4823\n",
       "CeDemocratico    2281\n",
       "MejorVargasLle   1971\n",
       "AlvaroUribeVel   1892\n",
       "ClaudiaLopez     1742\n",
       "lasillaenvivo    1221\n",
       "VLADDO            975\n",
       "mluciaramirez     960\n",
       "BluRadioCo        872\n",
       "PCambioRadical    686\n",
       "AmarantaHank      654\n",
       "PinzonBueno       629\n",
       "piedadcordoba     598"
      ]
     },
     "execution_count": 22,
     "metadata": {},
     "output_type": "execute_result"
    }
   ],
   "source": [
    "ments_freq[:20]#60"
   ]
  },
  {
   "cell_type": "code",
   "execution_count": 23,
   "metadata": {},
   "outputs": [
    {
     "data": {
      "text/html": [
       "<div>\n",
       "<style scoped>\n",
       "    .dataframe tbody tr th:only-of-type {\n",
       "        vertical-align: middle;\n",
       "    }\n",
       "\n",
       "    .dataframe tbody tr th {\n",
       "        vertical-align: top;\n",
       "    }\n",
       "\n",
       "    .dataframe thead th {\n",
       "        text-align: right;\n",
       "    }\n",
       "</style>\n",
       "<table border=\"1\" class=\"dataframe\">\n",
       "  <thead>\n",
       "    <tr style=\"text-align: right;\">\n",
       "      <th>col_0</th>\n",
       "      <th>count</th>\n",
       "    </tr>\n",
       "  </thead>\n",
       "  <tbody>\n",
       "    <tr>\n",
       "      <th>count</th>\n",
       "      <td>5105.000</td>\n",
       "    </tr>\n",
       "    <tr>\n",
       "      <th>mean</th>\n",
       "      <td>33.639</td>\n",
       "    </tr>\n",
       "    <tr>\n",
       "      <th>std</th>\n",
       "      <td>663.045</td>\n",
       "    </tr>\n",
       "    <tr>\n",
       "      <th>min</th>\n",
       "      <td>1.000</td>\n",
       "    </tr>\n",
       "    <tr>\n",
       "      <th>25%</th>\n",
       "      <td>1.000</td>\n",
       "    </tr>\n",
       "    <tr>\n",
       "      <th>50%</th>\n",
       "      <td>2.000</td>\n",
       "    </tr>\n",
       "    <tr>\n",
       "      <th>75%</th>\n",
       "      <td>4.000</td>\n",
       "    </tr>\n",
       "    <tr>\n",
       "      <th>max</th>\n",
       "      <td>30004.000</td>\n",
       "    </tr>\n",
       "  </tbody>\n",
       "</table>\n",
       "</div>"
      ],
      "text/plain": [
       "col_0      count\n",
       "count   5105.000\n",
       "mean      33.639\n",
       "std      663.045\n",
       "min        1.000\n",
       "25%        1.000\n",
       "50%        2.000\n",
       "75%        4.000\n",
       "max    30004.000"
      ]
     },
     "execution_count": 23,
     "metadata": {},
     "output_type": "execute_result"
    }
   ],
   "source": [
    "round(ments_freq.describe(),3)"
   ]
  }
 ],
 "metadata": {
  "kernelspec": {
   "display_name": "Python 3",
   "language": "python",
   "name": "python3"
  },
  "language_info": {
   "codemirror_mode": {
    "name": "ipython",
    "version": 3
   },
   "file_extension": ".py",
   "mimetype": "text/x-python",
   "name": "python",
   "nbconvert_exporter": "python",
   "pygments_lexer": "ipython3",
   "version": "3.6.5"
  }
 },
 "nbformat": 4,
 "nbformat_minor": 2
}
