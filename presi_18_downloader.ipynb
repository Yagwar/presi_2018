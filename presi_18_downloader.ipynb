{
 "cells": [
  {
   "cell_type": "code",
   "execution_count": 1,
   "metadata": {},
   "outputs": [],
   "source": [
    "# Libraries\n",
    "import tweepy\n",
    "import presi_18_tokens as tkns # Tweeter API Tokens\n",
    "\n",
    "#Stream Downloader\n",
    "from tweepy import Stream\n",
    "from tweepy import OAuthHandler\n",
    "from tweepy.streaming import StreamListener"
   ]
  },
  {
   "cell_type": "code",
   "execution_count": 2,
   "metadata": {},
   "outputs": [],
   "source": [
    "consumer_key = tkns.consumer_key\n",
    "consumer_secret = tkns.consumer_key_secret\n",
    "access_token = tkns.access_token\n",
    "access_secret = tkns.access_token_secret\n",
    " \n",
    "auth = OAuthHandler(consumer_key, consumer_secret)\n",
    "auth.set_access_token(access_token, access_secret)\n",
    " \n",
    "api = tweepy.API(auth)"
   ]
  },
  {
   "cell_type": "code",
   "execution_count": null,
   "metadata": {},
   "outputs": [],
   "source": [
    "candidatos=[\"@DeLaCalleHum\", \"@ClaraLopezObre\",\n",
    "            \"@MoralesViviane\",\n",
    "            \"@sergio_fajardo\",\"@ClaudiaLopez\",\n",
    "            \"@VotoenblancoCo\",\n",
    "            \"@piedadcordoba\",\"@JaimeAraujoR\",\n",
    "            \"@prjorgetrujillo\",\n",
    "            \"@German_Vargas\",\"@PinzonBueno\",\n",
    "            \"@IvanDuque\",\"@mluciaramirez\",\n",
    "            \"@petrogustavo\",\"@angelamrobledo\"\n",
    "           ]\n",
    "\n",
    "dwnld_limit=250"
   ]
  },
  {
   "cell_type": "code",
   "execution_count": null,
   "metadata": {},
   "outputs": [],
   "source": [
    "class MyListener(StreamListener):\n",
    "    def on_data(self, data):\n",
    "        try:\n",
    "            with open('dwnld_.json', 'a') as f:\n",
    "                f.write(data)\n",
    "                return True\n",
    "        except BaseException as e:\n",
    "            print(\"Error on_data: %s\" % str(e))\n",
    "        return True\n",
    " \n",
    "    def on_error(self, status):\n",
    "        if status_code == 420:#returning False in on_data disconnects the stream\n",
    "            return False\n",
    "        print(status)\n",
    "        return True\n",
    " \n",
    "twitter_stream = Stream(auth, MyListener())\n",
    "twitter_stream.filter(track=candidatos)"
   ]
  },
  {
   "cell_type": "code",
   "execution_count": null,
   "metadata": {},
   "outputs": [],
   "source": []
  }
 ],
 "metadata": {
  "kernelspec": {
   "display_name": "Python 3",
   "language": "python",
   "name": "python3"
  },
  "language_info": {
   "codemirror_mode": {
    "name": "ipython",
    "version": 3
   },
   "file_extension": ".py",
   "mimetype": "text/x-python",
   "name": "python",
   "nbconvert_exporter": "python",
   "pygments_lexer": "ipython3",
   "version": "3.6.4"
  }
 },
 "nbformat": 4,
 "nbformat_minor": 2
}
