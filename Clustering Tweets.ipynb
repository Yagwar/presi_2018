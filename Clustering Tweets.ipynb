{
 "cells": [
  {
   "cell_type": "code",
   "execution_count": 1,
   "metadata": {
    "collapsed": true
   },
   "outputs": [],
   "source": [
    "import json\n",
    "import pandas as pd\n",
    "import matplotlib.pyplot as plt\n",
    "import numpy as np\n",
    "import random\n",
    "%matplotlib inline\n",
    "\n",
    "import seaborn as sns\n",
    "sns.set(color_codes=True)\n",
    "\n",
    "#\n",
    "import matplotlib.gridspec as gridspec\n",
    "from scipy.cluster import hierarchy\n"
   ]
  },
  {
   "cell_type": "markdown",
   "metadata": {},
   "source": [
    "## Extraer usuarios"
   ]
  },
  {
   "cell_type": "code",
   "execution_count": 2,
   "metadata": {
    "collapsed": true
   },
   "outputs": [],
   "source": [
    "# get users and mentions from the download files:\n",
    "tweets_datas_path = ['dwnld_debate.json',\n",
    "                     'dwnld_1.json',\n",
    "                     'dwnld_2.json',\n",
    "                     'dwnld_3.json']                    \n",
    "tw_id=[]\n",
    "tw_user_id=[]\n",
    "tw_user=[]\n",
    "tw_text=[]\n",
    "entities_long=[]\n",
    "mentioned_ids=[]\n",
    "\n",
    "for json_file in tweets_datas_path:\n",
    "    with open(json_file, \"r\") as tweets_file:\n",
    "        for line in tweets_file:\n",
    "            try:\n",
    "                tweet = json.loads(line)\n",
    "                tw_entities=[]\n",
    "                tw_id.append(tweet[\"id_str\"])\n",
    "                tw_user_id.append(tweet[\"user\"][\"id_str\"])\n",
    "                tw_user.append(tweet[\"user\"][\"screen_name\"])\n",
    "                tw_entities.extend(tweet[\"entities\"][\"user_mentions\"])\n",
    "                entities_long.extend(tweet[\"entities\"][\"user_mentions\"])\n",
    "                tw_text_loop=[tweet[\"text\"]]\n",
    "                if tweet[\"truncated\"]:#==\"True\": # Truncated indica si el tweet es corto o largo; si truncado, busca extendido\n",
    "                    tw_text_loop=[tweet[\"extended_tweet\"][\"full_text\"]]\n",
    "                    tw_entities.extend(tweet[\"extended_tweet\"][\"entities\"][\"user_mentions\"])\n",
    "                    entities_long.extend(tweet[\"extended_tweet\"][\"entities\"][\"user_mentions\"])\n",
    "                else:\n",
    "                    if tweet[\"text\"][0:2]==\"RT\":\n",
    "                        if tweet[\"retweeted_status\"][\"truncated\"]:\n",
    "                            tw_text_loop=[tweet[\"retweeted_status\"][\"extended_tweet\"][\"full_text\"]]\n",
    "                            tw_entities.extend(tweet[\"retweeted_status\"][\"extended_tweet\"][\"entities\"][\"user_mentions\"])\n",
    "                            entities_long.extend(tweet[\"retweeted_status\"][\"extended_tweet\"][\"entities\"][\"user_mentions\"])\n",
    "                        else: \n",
    "                            tw_text_loop=[tweet[\"retweeted_status\"][\"text\"]]\n",
    "                            tw_entities.extend(tweet[\"retweeted_status\"][\"entities\"][\"user_mentions\"])\n",
    "                        if tweet[\"retweeted_status\"][\"is_quote_status\"]:\n",
    "                            tw_entities.extend(tweet[\"retweeted_status\"][\"quoted_status\"][\"entities\"][\"user_mentions\"])\n",
    "                            entities_long.extend(tweet[\"retweeted_status\"][\"quoted_status\"][\"entities\"][\"user_mentions\"])\n",
    "                    else:\n",
    "                        tw_text_loop=[tweet[\"text\"]]\n",
    "                mentioned_ids.append(list(set([ent[\"id_str\"] for ent in tw_entities])))\n",
    "                tw_text.append([tweet[\"id_str\"],tw_text_loop])\n",
    "            except:\n",
    "                continue\n",
    "\n",
    "\n",
    "\n",
    "    \n"
   ]
  },
  {
   "cell_type": "code",
   "execution_count": 3,
   "metadata": {},
   "outputs": [
    {
     "name": "stdout",
     "output_type": "stream",
     "text": [
      "272595 272595 272595 272577 1343096 272577\n"
     ]
    }
   ],
   "source": [
    "print(len(tw_id),\n",
    "      len(tw_user_id),\n",
    "      len(tw_user),\n",
    "      len(tw_text),\n",
    "      len(entities_long),\n",
    "      len(mentioned_ids))"
   ]
  },
  {
   "cell_type": "code",
   "execution_count": 4,
   "metadata": {},
   "outputs": [
    {
     "name": "stdout",
     "output_type": "stream",
     "text": [
      "twiteros: 55812\n"
     ]
    }
   ],
   "source": [
    "tweets_ids=pd.DataFrame({\"tw_id\":tw_id,\n",
    "              \"tw_user_id\":tw_user_id,\n",
    "              \"tw_user\":tw_user\n",
    "             })\n",
    "ids_freqs=pd.crosstab(index=tweets_ids.tw_user, columns=\"count\")\n",
    "ids_freqs=ids_freqs.sort_values(by=['count'] , ascending=False)[\"count\"]\n",
    "print(\"twiteros:\",ids_freqs.shape[0])"
   ]
  },
  {
   "cell_type": "code",
   "execution_count": 5,
   "metadata": {},
   "outputs": [
    {
     "data": {
      "text/plain": [
       "<matplotlib.axes._subplots.AxesSubplot at 0x2a4e597a160>"
      ]
     },
     "execution_count": 5,
     "metadata": {},
     "output_type": "execute_result"
    },
    {
     "data": {
      "image/png": "[encoded data removed]",
      "text/plain": [
       "<matplotlib.figure.Figure at 0x2a4e2f43128>"
      ]
     },
     "metadata": {},
     "output_type": "display_data"
    }
   ],
   "source": [
    "# ids_freqs.sort_values(by=['count'] , ascending=False)[\"count\"]\n",
    "ids_freqs.plot(figsize=(16,6))"
   ]
  },
  {
   "cell_type": "code",
   "execution_count": 6,
   "metadata": {},
   "outputs": [
    {
     "data": {
      "text/plain": [
       "<matplotlib.axes._subplots.AxesSubplot at 0x2a4e7febd30>"
      ]
     },
     "execution_count": 6,
     "metadata": {},
     "output_type": "execute_result"
    },
    {
     "data": {
      "image/png": "[encoded data removed]",
      "text/plain": [
       "<matplotlib.figure.Figure at 0x2a4e7feb2b0>"
      ]
     },
     "metadata": {},
     "output_type": "display_data"
    }
   ],
   "source": [
    "plt.figure(figsize=(16,6))\n",
    "sns.distplot(ids_freqs)"
   ]
  },
  {
   "cell_type": "code",
   "execution_count": 7,
   "metadata": {},
   "outputs": [
    {
     "data": {
      "text/plain": [
       "count    55812.000\n",
       "mean         4.884\n",
       "std         12.661\n",
       "min          1.000\n",
       "25%          1.000\n",
       "50%          2.000\n",
       "75%          4.000\n",
       "max        455.000\n",
       "Name: count, dtype: float64"
      ]
     },
     "execution_count": 7,
     "metadata": {},
     "output_type": "execute_result"
    }
   ],
   "source": [
    "round(ids_freqs.describe(),3)"
   ]
  },
  {
   "cell_type": "code",
   "execution_count": 8,
   "metadata": {},
   "outputs": [
    {
     "data": {
      "text/plain": [
       "<matplotlib.axes._subplots.AxesSubplot at 0x2a4ab898128>"
      ]
     },
     "execution_count": 8,
     "metadata": {},
     "output_type": "execute_result"
    },
    {
     "data": {
      "image/png": "[encoded data removed]",
      "text/plain": [
       "<matplotlib.figure.Figure at 0x2a4ab92b2b0>"
      ]
     },
     "metadata": {},
     "output_type": "display_data"
    }
   ],
   "source": [
    "ids_freqs[:300].plot(figsize=(16, 6))"
   ]
  },
  {
   "cell_type": "code",
   "execution_count": 9,
   "metadata": {},
   "outputs": [
    {
     "data": {
      "text/plain": [
       "tw_user\n",
       "PORMIPATRIAYA      455\n",
       "Yaniracolombia     354\n",
       "NANACHAGU          348\n",
       "Cmarcafederal      341\n",
       "marco_caldon       315\n",
       "valderramaangel    313\n",
       "abel3131           278\n",
       "nenoriega5         267\n",
       "VotaPorGerman      266\n",
       "TWITERM99417410    266\n",
       "GladysBecerra1     261\n",
       "DieGatto1          259\n",
       "AbCarrymar         258\n",
       "lguzmangomez       255\n",
       "biolucho2005       253\n",
       "CarrillonavasG     243\n",
       "waltermunevar      233\n",
       "megavas            227\n",
       "LuisCarlosFV2      223\n",
       "lugicas            222\n",
       "MACMontt           221\n",
       "pierrealee         221\n",
       "ramiropinzon56     217\n",
       "krlosgiraldo1      211\n",
       "SGTBerkoff1981     205\n",
       "DavidMed_          205\n",
       "Kinopodia          202\n",
       "Gustavo68831299    202\n",
       "jjolivella         199\n",
       "ZONAALEX9864       198\n",
       "GusDuque1          193\n",
       "josecastano0904    186\n",
       "Santifer57         184\n",
       "MiguelS69397877    183\n",
       "carlucas956666     182\n",
       "jklosan05          182\n",
       "jose_amed          182\n",
       "HernanChelo        181\n",
       "VancliffDesign     179\n",
       "luisvarela888      178\n",
       "VictoriaRubian5    178\n",
       "noelquisa          177\n",
       "JaviJimenezl       177\n",
       "PAULADOMINGUEZG    176\n",
       "SenorCaicedo       174\n",
       "josemi422          173\n",
       "Amparoc66          173\n",
       "billybrown6161     172\n",
       "pajaritopi01       170\n",
       "manueljoseluque    170\n",
       "PabloSolanoMat1    170\n",
       "Barreja            169\n",
       "jpalacioposada     169\n",
       "juansex11151175    168\n",
       "OFMR2              165\n",
       "raulzul            165\n",
       "guilleparra2000    165\n",
       "CarlosB06502719    164\n",
       "victordanielcas    163\n",
       "DeQuevedoFco       163\n",
       "Name: count, dtype: int64"
      ]
     },
     "execution_count": 9,
     "metadata": {},
     "output_type": "execute_result"
    }
   ],
   "source": [
    "ids_freqs.sort_values(ascending=False)[:60]"
   ]
  },
  {
   "cell_type": "code",
   "execution_count": 27,
   "metadata": {},
   "outputs": [
    {
     "data": {
      "text/plain": [
       "19256"
      ]
     },
     "execution_count": 27,
     "metadata": {},
     "output_type": "execute_result"
    }
   ],
   "source": [
    "uniq_ids=list(set([entit[\"id_str\"]for entit in entities_long]))\n",
    "len(uniq_ids)"
   ]
  },
  {
   "cell_type": "code",
   "execution_count": 11,
   "metadata": {
    "collapsed": true
   },
   "outputs": [],
   "source": [
    "ments_df=pd.DataFrame([[entit[\"id_str\"],\n",
    "                        entit[\"screen_name\"],\n",
    "                        entit[\"name\"]\n",
    "                       ]for entit in entities_long],\n",
    "                     columns=[\"id_str\",\"screen_name\",\"name\"])"
   ]
  },
  {
   "cell_type": "code",
   "execution_count": 12,
   "metadata": {},
   "outputs": [
    {
     "name": "stdout",
     "output_type": "stream",
     "text": [
      "Cuentas mencionadas 19270\n"
     ]
    }
   ],
   "source": [
    "ments_freq=pd.crosstab(index=ments_df.screen_name, columns=\"count\")\n",
    "ments_freq=ments_freq.sort_values(by=['count'] , ascending=False)\n",
    "print(\"Cuentas mencionadas\",ments_freq.shape[0])"
   ]
  },
  {
   "cell_type": "code",
   "execution_count": 13,
   "metadata": {},
   "outputs": [
    {
     "data": {
      "text/plain": [
       "<matplotlib.axes._subplots.AxesSubplot at 0x2a4ab8a38d0>"
      ]
     },
     "execution_count": 13,
     "metadata": {},
     "output_type": "execute_result"
    },
    {
     "data": {
      "image/png": "[encoded data removed]",
      "text/plain": [
       "<matplotlib.figure.Figure at 0x2a4e7feb080>"
      ]
     },
     "metadata": {},
     "output_type": "display_data"
    }
   ],
   "source": [
    "ments_freq[:40].plot(kind='bar', figsize=(16,6))"
   ]
  },
  {
   "cell_type": "code",
   "execution_count": 41,
   "metadata": {},
   "outputs": [
    {
     "data": {
      "text/plain": [
       "<matplotlib.axes._subplots.AxesSubplot at 0x2a4af5934e0>"
      ]
     },
     "execution_count": 41,
     "metadata": {},
     "output_type": "execute_result"
    },
    {
     "data": {
      "image/png": "[encoded data removed]",
      "text/plain": [
       "<matplotlib.figure.Figure at 0x2a4af5a6550>"
      ]
     },
     "metadata": {},
     "output_type": "display_data"
    }
   ],
   "source": [
    "ments_freq[:300].plot(figsize=(16, 6))"
   ]
  },
  {
   "cell_type": "code",
   "execution_count": 44,
   "metadata": {},
   "outputs": [
    {
     "data": {
      "text/html": [
       "<div>\n",
       "<style>\n",
       "    .dataframe thead tr:only-child th {\n",
       "        text-align: right;\n",
       "    }\n",
       "\n",
       "    .dataframe thead th {\n",
       "        text-align: left;\n",
       "    }\n",
       "\n",
       "    .dataframe tbody tr th {\n",
       "        vertical-align: top;\n",
       "    }\n",
       "</style>\n",
       "<table border=\"1\" class=\"dataframe\">\n",
       "  <thead>\n",
       "    <tr style=\"text-align: right;\">\n",
       "      <th>col_0</th>\n",
       "      <th>count</th>\n",
       "    </tr>\n",
       "    <tr>\n",
       "      <th>screen_name</th>\n",
       "      <th></th>\n",
       "    </tr>\n",
       "  </thead>\n",
       "  <tbody>\n",
       "    <tr>\n",
       "      <th>IvanDuque</th>\n",
       "      <td>204310</td>\n",
       "    </tr>\n",
       "    <tr>\n",
       "      <th>petrogustavo</th>\n",
       "      <td>186318</td>\n",
       "    </tr>\n",
       "    <tr>\n",
       "      <th>sergio_fajardo</th>\n",
       "      <td>38963</td>\n",
       "    </tr>\n",
       "    <tr>\n",
       "      <th>DeLaCalleHum</th>\n",
       "      <td>26131</td>\n",
       "    </tr>\n",
       "    <tr>\n",
       "      <th>AlvaroUribeVel</th>\n",
       "      <td>24753</td>\n",
       "    </tr>\n",
       "    <tr>\n",
       "      <th>German_Vargas</th>\n",
       "      <td>24389</td>\n",
       "    </tr>\n",
       "    <tr>\n",
       "      <th>mluciaramirez</th>\n",
       "      <td>17596</td>\n",
       "    </tr>\n",
       "    <tr>\n",
       "      <th>OIZuluaga</th>\n",
       "      <td>16114</td>\n",
       "    </tr>\n",
       "    <tr>\n",
       "      <th>matadoreltiempo</th>\n",
       "      <td>15612</td>\n",
       "    </tr>\n",
       "    <tr>\n",
       "      <th>angelamrobledo</th>\n",
       "      <td>13735</td>\n",
       "    </tr>\n",
       "    <tr>\n",
       "      <th>CeDemocratico</th>\n",
       "      <td>11882</td>\n",
       "    </tr>\n",
       "    <tr>\n",
       "      <th>adolfofoel</th>\n",
       "      <td>10756</td>\n",
       "    </tr>\n",
       "    <tr>\n",
       "      <th>Teleantioquia</th>\n",
       "      <td>10575</td>\n",
       "    </tr>\n",
       "    <tr>\n",
       "      <th>GustavoBolivar</th>\n",
       "      <td>10138</td>\n",
       "    </tr>\n",
       "    <tr>\n",
       "      <th>IvanCepedaCast</th>\n",
       "      <td>9971</td>\n",
       "    </tr>\n",
       "    <tr>\n",
       "      <th>AlirioUribeMuoz</th>\n",
       "      <td>8353</td>\n",
       "    </tr>\n",
       "    <tr>\n",
       "      <th>HOLLMANMORRIS</th>\n",
       "      <td>7870</td>\n",
       "    </tr>\n",
       "    <tr>\n",
       "      <th>PonchoZuleta</th>\n",
       "      <td>7522</td>\n",
       "    </tr>\n",
       "    <tr>\n",
       "      <th>RevistaSemana</th>\n",
       "      <td>7103</td>\n",
       "    </tr>\n",
       "    <tr>\n",
       "      <th>ELTIEMPO</th>\n",
       "      <td>6102</td>\n",
       "    </tr>\n",
       "    <tr>\n",
       "      <th>JuanManSantos</th>\n",
       "      <td>6001</td>\n",
       "    </tr>\n",
       "    <tr>\n",
       "      <th>jbagbam74</th>\n",
       "      <td>5972</td>\n",
       "    </tr>\n",
       "    <tr>\n",
       "      <th>FiscaliaCol</th>\n",
       "      <td>5777</td>\n",
       "    </tr>\n",
       "    <tr>\n",
       "      <th>pmercado2006</th>\n",
       "      <td>5310</td>\n",
       "    </tr>\n",
       "    <tr>\n",
       "      <th>PinzonBueno</th>\n",
       "      <td>5306</td>\n",
       "    </tr>\n",
       "    <tr>\n",
       "      <th>1LETZA</th>\n",
       "      <td>5026</td>\n",
       "    </tr>\n",
       "    <tr>\n",
       "      <th>VictorJCorreaV</th>\n",
       "      <td>4961</td>\n",
       "    </tr>\n",
       "    <tr>\n",
       "      <th>CONCEJALCELIO</th>\n",
       "      <td>4912</td>\n",
       "    </tr>\n",
       "    <tr>\n",
       "      <th>ClaudiaLopez</th>\n",
       "      <td>4860</td>\n",
       "    </tr>\n",
       "    <tr>\n",
       "      <th>RPardoGP</th>\n",
       "      <td>4829</td>\n",
       "    </tr>\n",
       "    <tr>\n",
       "      <th>...</th>\n",
       "      <td>...</td>\n",
       "    </tr>\n",
       "    <tr>\n",
       "      <th>alohar2010</th>\n",
       "      <td>566</td>\n",
       "    </tr>\n",
       "    <tr>\n",
       "      <th>Vespertrino</th>\n",
       "      <td>563</td>\n",
       "    </tr>\n",
       "    <tr>\n",
       "      <th>Angelino_Garzon</th>\n",
       "      <td>563</td>\n",
       "    </tr>\n",
       "    <tr>\n",
       "      <th>DanielPalam</th>\n",
       "      <td>560</td>\n",
       "    </tr>\n",
       "    <tr>\n",
       "      <th>elheraldoco</th>\n",
       "      <td>557</td>\n",
       "    </tr>\n",
       "    <tr>\n",
       "      <th>AugustoCubides</th>\n",
       "      <td>557</td>\n",
       "    </tr>\n",
       "    <tr>\n",
       "      <th>JOHNBOLIVARACOS</th>\n",
       "      <td>551</td>\n",
       "    </tr>\n",
       "    <tr>\n",
       "      <th>LulapeloBrasil</th>\n",
       "      <td>548</td>\n",
       "    </tr>\n",
       "    <tr>\n",
       "      <th>adrescala</th>\n",
       "      <td>546</td>\n",
       "    </tr>\n",
       "    <tr>\n",
       "      <th>LucianoTorresC</th>\n",
       "      <td>546</td>\n",
       "    </tr>\n",
       "    <tr>\n",
       "      <th>jjolivella</th>\n",
       "      <td>545</td>\n",
       "    </tr>\n",
       "    <tr>\n",
       "      <th>CARLOSFMEJIA</th>\n",
       "      <td>541</td>\n",
       "    </tr>\n",
       "    <tr>\n",
       "      <th>jukarc1</th>\n",
       "      <td>540</td>\n",
       "    </tr>\n",
       "    <tr>\n",
       "      <th>Juancar30071948</th>\n",
       "      <td>534</td>\n",
       "    </tr>\n",
       "    <tr>\n",
       "      <th>PaisMenosPeor</th>\n",
       "      <td>530</td>\n",
       "    </tr>\n",
       "    <tr>\n",
       "      <th>cafrantoledo</th>\n",
       "      <td>528</td>\n",
       "    </tr>\n",
       "    <tr>\n",
       "      <th>monikquinterog</th>\n",
       "      <td>527</td>\n",
       "    </tr>\n",
       "    <tr>\n",
       "      <th>RepColMemes</th>\n",
       "      <td>525</td>\n",
       "    </tr>\n",
       "    <tr>\n",
       "      <th>claudita1956</th>\n",
       "      <td>522</td>\n",
       "    </tr>\n",
       "    <tr>\n",
       "      <th>Yaniracolombia</th>\n",
       "      <td>522</td>\n",
       "    </tr>\n",
       "    <tr>\n",
       "      <th>jerojasrodrigue</th>\n",
       "      <td>522</td>\n",
       "    </tr>\n",
       "    <tr>\n",
       "      <th>landy_martine</th>\n",
       "      <td>519</td>\n",
       "    </tr>\n",
       "    <tr>\n",
       "      <th>DuqueCaliyValle</th>\n",
       "      <td>518</td>\n",
       "    </tr>\n",
       "    <tr>\n",
       "      <th>betozabala</th>\n",
       "      <td>517</td>\n",
       "    </tr>\n",
       "    <tr>\n",
       "      <th>rubendcarrillo</th>\n",
       "      <td>517</td>\n",
       "    </tr>\n",
       "    <tr>\n",
       "      <th>Macasu_mario</th>\n",
       "      <td>515</td>\n",
       "    </tr>\n",
       "    <tr>\n",
       "      <th>sfajardo_2018</th>\n",
       "      <td>511</td>\n",
       "    </tr>\n",
       "    <tr>\n",
       "      <th>LauraMariaNara1</th>\n",
       "      <td>510</td>\n",
       "    </tr>\n",
       "    <tr>\n",
       "      <th>NoticiasUno</th>\n",
       "      <td>505</td>\n",
       "    </tr>\n",
       "    <tr>\n",
       "      <th>8verona</th>\n",
       "      <td>503</td>\n",
       "    </tr>\n",
       "  </tbody>\n",
       "</table>\n",
       "<p>300 rows × 1 columns</p>\n",
       "</div>"
      ],
      "text/plain": [
       "col_0             count\n",
       "screen_name            \n",
       "IvanDuque        204310\n",
       "petrogustavo     186318\n",
       "sergio_fajardo    38963\n",
       "DeLaCalleHum      26131\n",
       "AlvaroUribeVel    24753\n",
       "German_Vargas     24389\n",
       "mluciaramirez     17596\n",
       "OIZuluaga         16114\n",
       "matadoreltiempo   15612\n",
       "angelamrobledo    13735\n",
       "CeDemocratico     11882\n",
       "adolfofoel        10756\n",
       "Teleantioquia     10575\n",
       "GustavoBolivar    10138\n",
       "IvanCepedaCast     9971\n",
       "AlirioUribeMuoz    8353\n",
       "HOLLMANMORRIS      7870\n",
       "PonchoZuleta       7522\n",
       "RevistaSemana      7103\n",
       "ELTIEMPO           6102\n",
       "JuanManSantos      6001\n",
       "jbagbam74          5972\n",
       "FiscaliaCol        5777\n",
       "pmercado2006       5310\n",
       "PinzonBueno        5306\n",
       "1LETZA             5026\n",
       "VictorJCorreaV     4961\n",
       "CONCEJALCELIO      4912\n",
       "ClaudiaLopez       4860\n",
       "RPardoGP           4829\n",
       "...                 ...\n",
       "alohar2010          566\n",
       "Vespertrino         563\n",
       "Angelino_Garzon     563\n",
       "DanielPalam         560\n",
       "elheraldoco         557\n",
       "AugustoCubides      557\n",
       "JOHNBOLIVARACOS     551\n",
       "LulapeloBrasil      548\n",
       "adrescala           546\n",
       "LucianoTorresC      546\n",
       "jjolivella          545\n",
       "CARLOSFMEJIA        541\n",
       "jukarc1             540\n",
       "Juancar30071948     534\n",
       "PaisMenosPeor       530\n",
       "cafrantoledo        528\n",
       "monikquinterog      527\n",
       "RepColMemes         525\n",
       "claudita1956        522\n",
       "Yaniracolombia      522\n",
       "jerojasrodrigue     522\n",
       "landy_martine       519\n",
       "DuqueCaliyValle     518\n",
       "betozabala          517\n",
       "rubendcarrillo      517\n",
       "Macasu_mario        515\n",
       "sfajardo_2018       511\n",
       "LauraMariaNara1     510\n",
       "NoticiasUno         505\n",
       "8verona             503\n",
       "\n",
       "[300 rows x 1 columns]"
      ]
     },
     "execution_count": 44,
     "metadata": {},
     "output_type": "execute_result"
    }
   ],
   "source": [
    "(ments_freq[:300])#40"
   ]
  },
  {
   "cell_type": "markdown",
   "metadata": {},
   "source": [
    "# Verificar Loop\n",
    "# * Usar One Hot Encoding"
   ]
  },
  {
   "cell_type": "markdown",
   "metadata": {},
   "source": [
    "### Clustering Candidatos"
   ]
  },
  {
   "cell_type": "code",
   "execution_count": 49,
   "metadata": {},
   "outputs": [
    {
     "data": {
      "text/plain": [
       "(272577, 15)"
      ]
     },
     "execution_count": 49,
     "metadata": {},
     "output_type": "execute_result"
    }
   ],
   "source": [
    "scr_nm_cands=[\"DeLaCalleHum\", \"ClaraLopezObre\",\n",
    "              \"MoralesViviane\",\n",
    "              \"sergio_fajardo\",\"ClaudiaLopez\",\n",
    "              \"VotoenblancoCo\",\n",
    "              \"piedadcordoba\",\"JaimeAraujoR\",\n",
    "              \"prjorgetrujillo\",\n",
    "              \"German_Vargas\",\"PinzonBueno\",\n",
    "              \"IvanDuque\",\"mluciaramirez\",\n",
    "              \"petrogustavo\",\"angelamrobledo\"\n",
    "              ]\n",
    "\n",
    "#[ments_df.loc[ments_df.screen_name==nm_cand].iloc[0:1,0] for nm_cand in scr_nm_cands]\n",
    "id_str_cand=[\"823348278830002177\",\"126832572\",\n",
    "             \"86622012\",\n",
    "             \"25185308\",\"137908875\",\n",
    "             \"910144193586188288\",\n",
    "             \"34798360\",\"2542586322\",\n",
    "             \"232344683\",\n",
    "             \"20456814\",\"3401638840\",\n",
    "             \"77653794\",\"198984928\",\n",
    "             \"49849732\",\"165748292\"\n",
    "             ]\n",
    "\n",
    "cands_mntns=np.array([[cand in tw_mntns for cand in id_str_cand]for tw_mntns in mentioned_ids])\n",
    "cands_mntns.shape\n"
   ]
  },
  {
   "cell_type": "code",
   "execution_count": 67,
   "metadata": {},
   "outputs": [
    {
     "data": {
      "text/html": [
       "<div>\n",
       "<style>\n",
       "    .dataframe thead tr:only-child th {\n",
       "        text-align: right;\n",
       "    }\n",
       "\n",
       "    .dataframe thead th {\n",
       "        text-align: left;\n",
       "    }\n",
       "\n",
       "    .dataframe tbody tr th {\n",
       "        vertical-align: top;\n",
       "    }\n",
       "</style>\n",
       "<table border=\"1\" class=\"dataframe\">\n",
       "  <thead>\n",
       "    <tr style=\"text-align: right;\">\n",
       "      <th></th>\n",
       "      <th>0</th>\n",
       "      <th>1</th>\n",
       "      <th>2</th>\n",
       "      <th>3</th>\n",
       "      <th>4</th>\n",
       "      <th>5</th>\n",
       "      <th>6</th>\n",
       "      <th>7</th>\n",
       "      <th>8</th>\n",
       "      <th>9</th>\n",
       "      <th>10</th>\n",
       "      <th>11</th>\n",
       "      <th>12</th>\n",
       "      <th>13</th>\n",
       "      <th>14</th>\n",
       "    </tr>\n",
       "  </thead>\n",
       "  <tbody>\n",
       "    <tr>\n",
       "      <th>0</th>\n",
       "      <td>False</td>\n",
       "      <td>False</td>\n",
       "      <td>False</td>\n",
       "      <td>False</td>\n",
       "      <td>False</td>\n",
       "      <td>False</td>\n",
       "      <td>False</td>\n",
       "      <td>False</td>\n",
       "      <td>False</td>\n",
       "      <td>False</td>\n",
       "      <td>False</td>\n",
       "      <td>True</td>\n",
       "      <td>False</td>\n",
       "      <td>False</td>\n",
       "      <td>False</td>\n",
       "    </tr>\n",
       "    <tr>\n",
       "      <th>1</th>\n",
       "      <td>False</td>\n",
       "      <td>False</td>\n",
       "      <td>False</td>\n",
       "      <td>False</td>\n",
       "      <td>False</td>\n",
       "      <td>False</td>\n",
       "      <td>False</td>\n",
       "      <td>False</td>\n",
       "      <td>False</td>\n",
       "      <td>False</td>\n",
       "      <td>False</td>\n",
       "      <td>False</td>\n",
       "      <td>False</td>\n",
       "      <td>True</td>\n",
       "      <td>False</td>\n",
       "    </tr>\n",
       "    <tr>\n",
       "      <th>2</th>\n",
       "      <td>False</td>\n",
       "      <td>False</td>\n",
       "      <td>False</td>\n",
       "      <td>False</td>\n",
       "      <td>False</td>\n",
       "      <td>False</td>\n",
       "      <td>False</td>\n",
       "      <td>False</td>\n",
       "      <td>False</td>\n",
       "      <td>False</td>\n",
       "      <td>False</td>\n",
       "      <td>False</td>\n",
       "      <td>False</td>\n",
       "      <td>True</td>\n",
       "      <td>False</td>\n",
       "    </tr>\n",
       "    <tr>\n",
       "      <th>3</th>\n",
       "      <td>False</td>\n",
       "      <td>False</td>\n",
       "      <td>False</td>\n",
       "      <td>True</td>\n",
       "      <td>False</td>\n",
       "      <td>False</td>\n",
       "      <td>False</td>\n",
       "      <td>False</td>\n",
       "      <td>False</td>\n",
       "      <td>False</td>\n",
       "      <td>False</td>\n",
       "      <td>False</td>\n",
       "      <td>False</td>\n",
       "      <td>False</td>\n",
       "      <td>False</td>\n",
       "    </tr>\n",
       "    <tr>\n",
       "      <th>4</th>\n",
       "      <td>False</td>\n",
       "      <td>False</td>\n",
       "      <td>False</td>\n",
       "      <td>False</td>\n",
       "      <td>False</td>\n",
       "      <td>False</td>\n",
       "      <td>False</td>\n",
       "      <td>False</td>\n",
       "      <td>False</td>\n",
       "      <td>False</td>\n",
       "      <td>False</td>\n",
       "      <td>True</td>\n",
       "      <td>False</td>\n",
       "      <td>False</td>\n",
       "      <td>False</td>\n",
       "    </tr>\n",
       "    <tr>\n",
       "      <th>5</th>\n",
       "      <td>False</td>\n",
       "      <td>False</td>\n",
       "      <td>False</td>\n",
       "      <td>True</td>\n",
       "      <td>True</td>\n",
       "      <td>False</td>\n",
       "      <td>False</td>\n",
       "      <td>False</td>\n",
       "      <td>False</td>\n",
       "      <td>False</td>\n",
       "      <td>False</td>\n",
       "      <td>False</td>\n",
       "      <td>False</td>\n",
       "      <td>True</td>\n",
       "      <td>False</td>\n",
       "    </tr>\n",
       "    <tr>\n",
       "      <th>6</th>\n",
       "      <td>False</td>\n",
       "      <td>False</td>\n",
       "      <td>False</td>\n",
       "      <td>False</td>\n",
       "      <td>False</td>\n",
       "      <td>False</td>\n",
       "      <td>False</td>\n",
       "      <td>False</td>\n",
       "      <td>False</td>\n",
       "      <td>False</td>\n",
       "      <td>False</td>\n",
       "      <td>True</td>\n",
       "      <td>True</td>\n",
       "      <td>False</td>\n",
       "      <td>False</td>\n",
       "    </tr>\n",
       "    <tr>\n",
       "      <th>7</th>\n",
       "      <td>False</td>\n",
       "      <td>False</td>\n",
       "      <td>False</td>\n",
       "      <td>False</td>\n",
       "      <td>False</td>\n",
       "      <td>False</td>\n",
       "      <td>False</td>\n",
       "      <td>False</td>\n",
       "      <td>False</td>\n",
       "      <td>False</td>\n",
       "      <td>False</td>\n",
       "      <td>False</td>\n",
       "      <td>False</td>\n",
       "      <td>True</td>\n",
       "      <td>False</td>\n",
       "    </tr>\n",
       "    <tr>\n",
       "      <th>8</th>\n",
       "      <td>True</td>\n",
       "      <td>False</td>\n",
       "      <td>False</td>\n",
       "      <td>True</td>\n",
       "      <td>False</td>\n",
       "      <td>False</td>\n",
       "      <td>False</td>\n",
       "      <td>False</td>\n",
       "      <td>False</td>\n",
       "      <td>True</td>\n",
       "      <td>False</td>\n",
       "      <td>True</td>\n",
       "      <td>False</td>\n",
       "      <td>True</td>\n",
       "      <td>False</td>\n",
       "    </tr>\n",
       "    <tr>\n",
       "      <th>9</th>\n",
       "      <td>False</td>\n",
       "      <td>False</td>\n",
       "      <td>False</td>\n",
       "      <td>False</td>\n",
       "      <td>False</td>\n",
       "      <td>False</td>\n",
       "      <td>False</td>\n",
       "      <td>False</td>\n",
       "      <td>False</td>\n",
       "      <td>False</td>\n",
       "      <td>False</td>\n",
       "      <td>True</td>\n",
       "      <td>False</td>\n",
       "      <td>False</td>\n",
       "      <td>False</td>\n",
       "    </tr>\n",
       "  </tbody>\n",
       "</table>\n",
       "</div>"
      ],
      "text/plain": [
       "      0      1      2      3      4      5      6      7      8      9   \\\n",
       "0  False  False  False  False  False  False  False  False  False  False   \n",
       "1  False  False  False  False  False  False  False  False  False  False   \n",
       "2  False  False  False  False  False  False  False  False  False  False   \n",
       "3  False  False  False   True  False  False  False  False  False  False   \n",
       "4  False  False  False  False  False  False  False  False  False  False   \n",
       "5  False  False  False   True   True  False  False  False  False  False   \n",
       "6  False  False  False  False  False  False  False  False  False  False   \n",
       "7  False  False  False  False  False  False  False  False  False  False   \n",
       "8   True  False  False   True  False  False  False  False  False   True   \n",
       "9  False  False  False  False  False  False  False  False  False  False   \n",
       "\n",
       "      10     11     12     13     14  \n",
       "0  False   True  False  False  False  \n",
       "1  False  False  False   True  False  \n",
       "2  False  False  False   True  False  \n",
       "3  False  False  False  False  False  \n",
       "4  False   True  False  False  False  \n",
       "5  False  False  False   True  False  \n",
       "6  False   True   True  False  False  \n",
       "7  False  False  False   True  False  \n",
       "8  False   True  False   True  False  \n",
       "9  False   True  False  False  False  "
      ]
     },
     "execution_count": 67,
     "metadata": {},
     "output_type": "execute_result"
    }
   ],
   "source": [
    "pd.DataFrame([[cand in tw_mntns for cand in id_str_cand]for tw_mntns in mentioned_ids[21550:21560]])\n",
    "#[[cand in tw_mntns for cand in id_str_cand]for tw_mntns in [mentioned_ids[21558]]]\n",
    "#[mentioned_ids[21558]]"
   ]
  },
  {
   "cell_type": "code",
   "execution_count": 68,
   "metadata": {},
   "outputs": [
    {
     "data": {
      "text/plain": [
       "['25185308',\n",
       " '823348278830002177',\n",
       " '77653794',\n",
       " '18079284',\n",
       " '20456814',\n",
       " '60619634',\n",
       " '57174405',\n",
       " '49849732']"
      ]
     },
     "execution_count": 68,
     "metadata": {},
     "output_type": "execute_result"
    }
   ],
   "source": [
    "mentioned_ids[21558]"
   ]
  },
  {
   "cell_type": "code",
   "execution_count": 17,
   "metadata": {},
   "outputs": [],
   "source": [
    "df_cands_mntns=pd.DataFrame(cands_mntns,columns=scr_nm_cands)"
   ]
  },
  {
   "cell_type": "code",
   "execution_count": 50,
   "metadata": {},
   "outputs": [
    {
     "name": "stdout",
     "output_type": "stream",
     "text": [
      "IvanDuque          129283\n",
      "petrogustavo       117290\n",
      "sergio_fajardo      25589\n",
      "DeLaCalleHum        16616\n",
      "German_Vargas       15615\n",
      "mluciaramirez       12458\n",
      "angelamrobledo       9290\n",
      "ClaudiaLopez         3377\n",
      "PinzonBueno          3242\n",
      "piedadcordoba        1044\n",
      "ClaraLopezObre        818\n",
      "MoralesViviane        543\n",
      "JaimeAraujoR           13\n",
      "VotoenblancoCo          2\n",
      "prjorgetrujillo         0\n",
      "dtype: int64\n"
     ]
    },
    {
     "data": {
      "text/plain": [
       "<matplotlib.axes._subplots.AxesSubplot at 0x2a4aee216d8>"
      ]
     },
     "execution_count": 50,
     "metadata": {},
     "output_type": "execute_result"
    },
    {
     "data": {
      "image/png": "[encoded data removed]",
      "text/plain": [
       "<matplotlib.figure.Figure at 0x2a4af9124e0>"
      ]
     },
     "metadata": {},
     "output_type": "display_data"
    }
   ],
   "source": [
    "plt.figure(figsize=(15,12))\n",
    "print (df_cands_mntns.sum(axis=0).sort_values(ascending=False))\n",
    "df_cands_mntns.sum(axis=0).sort_values(ascending=False).plot(kind=\"bar\")"
   ]
  },
  {
   "cell_type": "code",
   "execution_count": 19,
   "metadata": {},
   "outputs": [
    {
     "data": {
      "text/plain": [
       "<matplotlib.image.AxesImage at 0x2a4abf61f28>"
      ]
     },
     "execution_count": 19,
     "metadata": {},
     "output_type": "execute_result"
    },
    {
     "data": {
      "image/png": "[encoded data removed]",
      "text/plain": [
       "<matplotlib.figure.Figure at 0x2a4b157bb00>"
      ]
     },
     "metadata": {},
     "output_type": "display_data"
    }
   ],
   "source": [
    "plt.figure(figsize=(15,12))\n",
    "plt.imshow(df_cands_mntns.iloc[:25,:], cmap=plt.cm.gray_r, interpolation='nearest')"
   ]
  },
  {
   "cell_type": "code",
   "execution_count": 23,
   "metadata": {},
   "outputs": [],
   "source": [
    "cands_ward= hierarchy.linkage(df_cands_mntns.transpose(), 'ward')"
   ]
  },
  {
   "cell_type": "code",
   "execution_count": 24,
   "metadata": {},
   "outputs": [
    {
     "data": {
      "image/png": "[encoded data removed]",
      "text/plain": [
       "<matplotlib.figure.Figure at 0x2a4adbc46a0>"
      ]
     },
     "metadata": {},
     "output_type": "display_data"
    }
   ],
   "source": [
    "#max_d = 10\n",
    "plt.figure(figsize=(10,15))\n",
    "#plt.figure()\n",
    "dn = hierarchy.dendrogram(cands_ward,orientation=\"left\", labels=scr_nm_cands)\n",
    "#plt.axhline(y=max_d, c='k')\n",
    "plt.title('Ward Link Dendrogram')\n",
    "#plt.savefig('dendrograma_ward_link.jpg')\n",
    "plt.show()"
   ]
  },
  {
   "cell_type": "markdown",
   "metadata": {},
   "source": [
    "### Clustering Nexos"
   ]
  },
  {
   "cell_type": "code",
   "execution_count": 46,
   "metadata": {
    "collapsed": true
   },
   "outputs": [],
   "source": [
    "ments_sel=list(ments_freq[:300].index)"
   ]
  },
  {
   "cell_type": "code",
   "execution_count": 47,
   "metadata": {
    "collapsed": true
   },
   "outputs": [],
   "source": [
    "mntns_mtrx=np.array([[cand in tw_mntns for cand in ments_sel]for tw_mntns in ments_df.screen_name])\n"
   ]
  },
  {
   "cell_type": "code",
   "execution_count": 48,
   "metadata": {
    "collapsed": true
   },
   "outputs": [],
   "source": [
    "df_mntns_mtrx=pd.DataFrame(mntns_mtrx,columns=ments_sel)"
   ]
  },
  {
   "cell_type": "code",
   "execution_count": null,
   "metadata": {
    "collapsed": true
   },
   "outputs": [],
   "source": []
  }
 ],
 "metadata": {
  "kernelspec": {
   "display_name": "Python 3",
   "language": "python",
   "name": "python3"
  },
  "language_info": {
   "codemirror_mode": {
    "name": "ipython",
    "version": 3
   },
   "file_extension": ".py",
   "mimetype": "text/x-python",
   "name": "python",
   "nbconvert_exporter": "python",
   "pygments_lexer": "ipython3",
   "version": "3.6.3"
  }
 },
 "nbformat": 4,
 "nbformat_minor": 2
}
